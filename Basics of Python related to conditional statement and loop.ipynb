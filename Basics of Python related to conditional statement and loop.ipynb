{
 "cells": [
  {
   "cell_type": "markdown",
   "id": "c06f95dd",
   "metadata": {},
   "source": [
    "# Conditional Expression"
   ]
  },
  {
   "cell_type": "markdown",
   "id": "4a29bd74",
   "metadata": {},
   "source": [
    "1. Write a program that takes a number as input and prints whether it's positive, negative, or zero."
   ]
  },
  {
   "cell_type": "code",
   "execution_count": 1,
   "id": "772407d6",
   "metadata": {},
   "outputs": [
    {
     "name": "stdout",
     "output_type": "stream",
     "text": [
      "Enter the number:43\n",
      "The entered number is positive\n"
     ]
    }
   ],
   "source": [
    "num = float(input(\"Enter the number:\"))\n",
    "if num > 0:\n",
    "    print(\"The entered number is positive\")\n",
    "elif num < 0:\n",
    "    print(\"The entered number is negative\")\n",
    "else:\n",
    "    print(\"The entered number is 0\")"
   ]
  },
  {
   "cell_type": "markdown",
   "id": "6c58f52b",
   "metadata": {},
   "source": [
    "2. Create a program that takes two numbers as input and prints the larger one."
   ]
  },
  {
   "cell_type": "code",
   "execution_count": 2,
   "id": "ea719e5d",
   "metadata": {},
   "outputs": [
    {
     "name": "stdout",
     "output_type": "stream",
     "text": [
      "Enter first number: 24\n",
      "Enter second number: 55\n",
      "55\n"
     ]
    }
   ],
   "source": [
    "a = int(input(\"Enter first number: \"))\n",
    "b = int(input(\"Enter second number: \"))\n",
    "if a > b:\n",
    "    print(a)\n",
    "else:\n",
    "    print(b)"
   ]
  },
  {
   "cell_type": "markdown",
   "id": "876abb8d",
   "metadata": {},
   "source": [
    "3. Write a program that checks if a given number is odd or even."
   ]
  },
  {
   "cell_type": "code",
   "execution_count": 3,
   "id": "639a0ef0",
   "metadata": {},
   "outputs": [
    {
     "name": "stdout",
     "output_type": "stream",
     "text": [
      "Enter a number :23\n",
      "23 is odd number\n"
     ]
    }
   ],
   "source": [
    "a = int(input(\"Enter a number :\"))\n",
    "if a %2 == 0:\n",
    "    print(f\"{a} is even number\")\n",
    "else:\n",
    "    print(f\"{a} is odd number\")"
   ]
  },
  {
   "cell_type": "markdown",
   "id": "48ef65e1",
   "metadata": {},
   "source": [
    "4. Create a program that takes a single alphabet as input and prints whether it's a vowel or a consonant."
   ]
  },
  {
   "cell_type": "code",
   "execution_count": 4,
   "id": "f45b043b",
   "metadata": {},
   "outputs": [
    {
     "name": "stdout",
     "output_type": "stream",
     "text": [
      "Enter a alphabet: s\n",
      "s it's a consonant\n"
     ]
    }
   ],
   "source": [
    "x = input(\"Enter a alphabet: \")\n",
    "a = ('a','e','i','o','u')\n",
    "if x in a:\n",
    "    print(f\"{x} it's a vowel\")\n",
    "else:\n",
    "    print(f\"{x} it's a consonant\")"
   ]
  },
  {
   "cell_type": "markdown",
   "id": "a3bf46e9",
   "metadata": {},
   "source": [
    "5. Create a program that takes a person's age as input and prints whether they are a child, teenager, adult, or senior."
   ]
  },
  {
   "cell_type": "code",
   "execution_count": 5,
   "id": "ed25d561",
   "metadata": {},
   "outputs": [
    {
     "name": "stdout",
     "output_type": "stream",
     "text": [
      "Enter your age: 2\n",
      "You are child \n"
     ]
    }
   ],
   "source": [
    "age = int(input(\"Enter your age: \"))\n",
    "if age < 12:\n",
    "    print('You are child ')\n",
    "elif age in range (13, 18):\n",
    "    print('You are Teenager ')\n",
    "elif age in range (18, 46):\n",
    "    print('You are Adult: ')\n",
    "else:\n",
    "    print('You are senior ')"
   ]
  },
  {
   "cell_type": "markdown",
   "id": "0c30c8b6",
   "metadata": {},
   "source": [
    "6. Simulate a traffic light. Take the color as input and print whether it's safe to go, slow down, or stop."
   ]
  },
  {
   "cell_type": "code",
   "execution_count": 6,
   "id": "b236e946",
   "metadata": {},
   "outputs": [
    {
     "name": "stdout",
     "output_type": "stream",
     "text": [
      "Enter the color: Red\n",
      "The Signal is Red, Stop!\n"
     ]
    }
   ],
   "source": [
    "color = input(\"Enter the color: \")\n",
    "if color == \"Red\":\n",
    "    print(f\"The Signal is {color}, Stop!\")\n",
    "elif color == \"Green\":\n",
    "    print(f\"The Signal is {color}, You are safe to go\")\n",
    "elif color == \"Yellow\":\n",
    "    print(f\"The Signal is {color}, Slow Down\")"
   ]
  },
  {
   "cell_type": "markdown",
   "id": "6bd33758",
   "metadata": {},
   "source": [
    "7. Create a program that takes a student's score as input and prints their corresponding grade. Use the standard grading scale (A, B, C, D, F)"
   ]
  },
  {
   "cell_type": "code",
   "execution_count": 13,
   "id": "eaded449",
   "metadata": {},
   "outputs": [
    {
     "name": "stdout",
     "output_type": "stream",
     "text": [
      "Enter your marks: 30\n",
      "you got 30 marks. So, your grade is F\n"
     ]
    }
   ],
   "source": [
    "score = int(input(\"Enter your marks: \"))\n",
    "if score in range(90,101):\n",
    "    print(f\"you got {score} marks. So, your grade is A\")\n",
    "elif score in range (80,90):\n",
    "    print(f\"you got {score} marks. So, your grade is B\")\n",
    "elif score in range (70,80):\n",
    "    print(f\"you got {score} marks. So, your grade is C\")\n",
    "elif score in range (60,70):\n",
    "    print(f\"you got {score} marks. So, your grade is D\")\n",
    "elif score in range (0,60):\n",
    "    print(f\"you got {score} marks. So, your grade is F\")"
   ]
  },
  {
   "cell_type": "markdown",
   "id": "a950e698",
   "metadata": {},
   "source": [
    "8. Write a program that checks whether a given year is a leap year or not. A leap year is divisible by 4, except for years that are divisible by 100. However, years divisible by 400 are leap years."
   ]
  },
  {
   "cell_type": "code",
   "execution_count": 15,
   "id": "887758df",
   "metadata": {},
   "outputs": [
    {
     "name": "stdout",
     "output_type": "stream",
     "text": [
      "Enter the year: 2050\n",
      "This is not leap year\n"
     ]
    }
   ],
   "source": [
    "leap_year = int(input(\"Enter the year: \"))\n",
    "if leap_year%4 == 0:\n",
    "    print(\"This is leap year\")\n",
    "else:\n",
    "    print(\"This is not leap year\")"
   ]
  },
  {
   "cell_type": "markdown",
   "id": "6e3c5b25",
   "metadata": {},
   "source": [
    "9. Write a function that checks whether a given word or phrase is a palindrome (reads the same backward as forward), ignoring spaces and case."
   ]
  },
  {
   "cell_type": "code",
   "execution_count": 18,
   "id": "a049f92d",
   "metadata": {},
   "outputs": [
    {
     "name": "stdout",
     "output_type": "stream",
     "text": [
      "Enter a word or phrase: 123\n",
      "Not a Palindrome\n"
     ]
    }
   ],
   "source": [
    "word = input(\"Enter a word or phrase: \")\n",
    "if word == word[::-1]:\n",
    "    print(\"Is Palindrome\")\n",
    "else:\n",
    "    print(\"Not a Palindrome\")"
   ]
  },
  {
   "cell_type": "markdown",
   "id": "cdf08e1a",
   "metadata": {},
   "source": [
    "10. Ticket Price Calculator:\n",
    "Develop a program that calculates the cost of movie tickets based on the age of the viewer. The prices are as follows:\n",
    "\n",
    "Children (0-12): $5\n",
    "\n",
    "Teens (13-17): $8\n",
    "\n",
    "Adults (18-64): $12\n",
    "\n",
    "Seniors (65 and above): $7"
   ]
  },
  {
   "cell_type": "code",
   "execution_count": 19,
   "id": "08a58b0b",
   "metadata": {},
   "outputs": [
    {
     "name": "stdout",
     "output_type": "stream",
     "text": [
      "Enter Your age to know the cost of the movie teacket 32\n",
      "The cost for your 32 is $12\n"
     ]
    }
   ],
   "source": [
    "age=int(input(\"Enter Your age to know the cost of the movie teacket \"))\n",
    "if age in range(0,13):\n",
    "    print(f'The cost for your {age} is $5' )\n",
    "elif age in range(13,18):\n",
    "     print(f'The cost for your {age} is $8' )\n",
    "elif age in range(18,64):\n",
    "    print(f'The cost for your {age} is $12' )\n",
    "else:\n",
    "    print(f'The cost for your {age} is $7' )"
   ]
  },
  {
   "cell_type": "markdown",
   "id": "20ac4b80",
   "metadata": {},
   "source": [
    "# Loop"
   ]
  },
  {
   "cell_type": "markdown",
   "id": "c1f84ec7",
   "metadata": {},
   "source": [
    "1. Use a for loop to print numbers from 1 to 5."
   ]
  },
  {
   "cell_type": "code",
   "execution_count": 20,
   "id": "f22a6fdd",
   "metadata": {},
   "outputs": [
    {
     "name": "stdout",
     "output_type": "stream",
     "text": [
      "1\n",
      "2\n",
      "3\n",
      "4\n",
      "5\n"
     ]
    }
   ],
   "source": [
    "a = [1,2,3,4,5]\n",
    "for i in (a):\n",
    "    print(i)"
   ]
  },
  {
   "cell_type": "code",
   "execution_count": 21,
   "id": "6ecc2904",
   "metadata": {},
   "outputs": [
    {
     "name": "stdout",
     "output_type": "stream",
     "text": [
      "1\n",
      "2\n",
      "3\n",
      "4\n",
      "5\n"
     ]
    }
   ],
   "source": [
    "for i in range(1,6):\n",
    "    print(i)"
   ]
  },
  {
   "cell_type": "markdown",
   "id": "7d593a1f",
   "metadata": {},
   "source": [
    "2. Calculate and print the sum of squares of numbers from 1 to 5 using a for loop."
   ]
  },
  {
   "cell_type": "code",
   "execution_count": 22,
   "id": "b4b58462",
   "metadata": {},
   "outputs": [
    {
     "name": "stdout",
     "output_type": "stream",
     "text": [
      "Sum of square: 55\n"
     ]
    }
   ],
   "source": [
    "sum_of_sq = 0\n",
    "for i in range(1,6):\n",
    "    sum_of_sq += i ** 2\n",
    "print(\"Sum of square:\", sum_of_sq)"
   ]
  },
  {
   "cell_type": "code",
   "execution_count": 23,
   "id": "4352a93e",
   "metadata": {},
   "outputs": [
    {
     "name": "stdout",
     "output_type": "stream",
     "text": [
      "Sum of squares = 55\n"
     ]
    }
   ],
   "source": [
    "#another way to to solve above question using comprehension\n",
    "squares_sum = sum(i**2 for i in range(1, 6))\n",
    "print(\"Sum of squares =\", squares_sum)"
   ]
  },
  {
   "cell_type": "markdown",
   "id": "4757581d",
   "metadata": {},
   "source": [
    "3.Write a program that takes a number as input and prints the first 5 multiples of that number using a for loop."
   ]
  },
  {
   "cell_type": "code",
   "execution_count": 25,
   "id": "a3dea733",
   "metadata": {},
   "outputs": [
    {
     "name": "stdout",
     "output_type": "stream",
     "text": [
      "Enter the number: 5\n",
      "5\n",
      "10\n",
      "15\n",
      "20\n",
      "25\n"
     ]
    }
   ],
   "source": [
    "a = int(input(\"Enter the number: \"))\n",
    "for i in range(1,6):\n",
    "    b = i * a\n",
    "    print(b)"
   ]
  },
  {
   "cell_type": "markdown",
   "id": "6d28149f",
   "metadata": {},
   "source": [
    "4. Take a number as input and use a for loop to print the multiplication table for that number from 1 to 10."
   ]
  },
  {
   "cell_type": "code",
   "execution_count": 26,
   "id": "5d8e3f52",
   "metadata": {},
   "outputs": [
    {
     "name": "stdout",
     "output_type": "stream",
     "text": [
      "Enter a number: 5\n",
      "5 X 1 = 5\n",
      "5 X 2 = 10\n",
      "5 X 3 = 15\n",
      "5 X 4 = 20\n",
      "5 X 5 = 25\n",
      "5 X 6 = 30\n",
      "5 X 7 = 35\n",
      "5 X 8 = 40\n",
      "5 X 9 = 45\n",
      "5 X 10 = 50\n"
     ]
    }
   ],
   "source": [
    "num = int(input(\"Enter a number: \"))\n",
    "for i in range(1,11):\n",
    "    x = num * i\n",
    "    print(f\"{num} X {i} = {x}\")"
   ]
  },
  {
   "cell_type": "markdown",
   "id": "b24a06da",
   "metadata": {},
   "source": [
    "5. Develop a Python program that checks whether a given number is prime or not using a for loop."
   ]
  },
  {
   "cell_type": "code",
   "execution_count": 27,
   "id": "3faa27dc",
   "metadata": {},
   "outputs": [
    {
     "name": "stdout",
     "output_type": "stream",
     "text": [
      "Enter a number: 5\n",
      "Entered number is prime\n"
     ]
    }
   ],
   "source": [
    "num = int(input(\"Enter a number: \"))\n",
    "Prime = True\n",
    "for i in range(2, num):\n",
    "    if (num%2 == 0):\n",
    "        Prime = False\n",
    "    break\n",
    "if Prime == True:\n",
    "    print(\"Entered number is prime\")\n",
    "else:\n",
    "    print(\"Entered number is not prime\")\n",
    "        "
   ]
  },
  {
   "cell_type": "markdown",
   "id": "7c001578",
   "metadata": {},
   "source": [
    "6. Create a Python program to find the largest element in a list using a for loop."
   ]
  },
  {
   "cell_type": "code",
   "execution_count": 28,
   "id": "08134587",
   "metadata": {},
   "outputs": [
    {
     "name": "stdout",
     "output_type": "stream",
     "text": [
      "The largest number is:  999\n"
     ]
    }
   ],
   "source": [
    "my_list = [1,2,3,4,5,33,23,999,122,56,755,421,567]\n",
    "largest_num = my_list[0]\n",
    "for i in my_list:        # the each element in the list is i\n",
    "    if i > largest_num:\n",
    "        largest_num = i\n",
    "print(\"The largest number is: \", largest_num)"
   ]
  },
  {
   "cell_type": "markdown",
   "id": "8cf6c238",
   "metadata": {},
   "source": [
    "7. Write a Python program to reverse a given string using a for loop."
   ]
  },
  {
   "cell_type": "code",
   "execution_count": 29,
   "id": "6ad99a2b",
   "metadata": {},
   "outputs": [
    {
     "name": "stdout",
     "output_type": "stream",
     "text": [
      "Enter any string: amit\n",
      "Reversed string is:  tima\n"
     ]
    }
   ],
   "source": [
    "a = input(\"Enter any string: \") \n",
    "for i in a:\n",
    "    b = a[::-1]\n",
    "print(\"Reversed string is: \",b) "
   ]
  },
  {
   "cell_type": "markdown",
   "id": "c47abbfb",
   "metadata": {},
   "source": [
    "8. Develop a Python program that calculates the sum of all numbers from 1 to 100 using a for loop."
   ]
  },
  {
   "cell_type": "code",
   "execution_count": 30,
   "id": "8bad8f4d",
   "metadata": {},
   "outputs": [
    {
     "name": "stdout",
     "output_type": "stream",
     "text": [
      "5050\n"
     ]
    }
   ],
   "source": [
    "a = 0\n",
    "for i in range(1,101):\n",
    "    a = a + i\n",
    "    i = i + 1\n",
    "print(a)"
   ]
  },
  {
   "cell_type": "markdown",
   "id": "570e8fb8",
   "metadata": {},
   "source": [
    "9. Write a Python program to find the factorial of a number using a for loop."
   ]
  },
  {
   "cell_type": "code",
   "execution_count": 34,
   "id": "2acb160e",
   "metadata": {},
   "outputs": [
    {
     "name": "stdout",
     "output_type": "stream",
     "text": [
      "Enter any Number : 6\n",
      "720\n"
     ]
    }
   ],
   "source": [
    "factorial=1\n",
    "integer=int(input(\"Enter any Number : \"))\n",
    "for i in range(1,integer+1):\n",
    "    factorial=factorial*i\n",
    "    integer=integer-1\n",
    "print(factorial)"
   ]
  },
  {
   "cell_type": "markdown",
   "id": "219819ee",
   "metadata": {},
   "source": [
    "# While Loop"
   ]
  },
  {
   "cell_type": "markdown",
   "id": "8f7a1275",
   "metadata": {},
   "source": [
    "1. Write a program that prints numbers from 1 to 10 using a while loop."
   ]
  },
  {
   "cell_type": "code",
   "execution_count": 62,
   "id": "3d431731",
   "metadata": {},
   "outputs": [
    {
     "name": "stdout",
     "output_type": "stream",
     "text": [
      "1\n",
      "2\n",
      "3\n",
      "4\n",
      "5\n",
      "6\n",
      "7\n",
      "8\n",
      "9\n",
      "10\n"
     ]
    }
   ],
   "source": [
    "a = 1\n",
    "while a <= 10:\n",
    "    print(a)\n",
    "    a = a + 1"
   ]
  },
  {
   "cell_type": "markdown",
   "id": "3a930e16",
   "metadata": {},
   "source": [
    "2. Create a program that asks the user to enter a number and then prints the multiplication table of that number using a while loop."
   ]
  },
  {
   "cell_type": "code",
   "execution_count": 69,
   "id": "aa103cbc",
   "metadata": {},
   "outputs": [
    {
     "name": "stdout",
     "output_type": "stream",
     "text": [
      "Enter a number: 5\n",
      "5 X 1 = 5\n",
      "5 X 2 = 10\n",
      "5 X 3 = 15\n",
      "5 X 4 = 20\n",
      "5 X 5 = 25\n",
      "5 X 6 = 30\n",
      "5 X 7 = 35\n",
      "5 X 8 = 40\n",
      "5 X 9 = 45\n",
      "5 X 10 = 50\n"
     ]
    }
   ],
   "source": [
    "a = int(input(\"Enter a number: \"))\n",
    "i = 1\n",
    "while i <= 10:\n",
    "    b = a * i\n",
    "    print(a, \"X\", i, \"=\", b)\n",
    "    i += 1"
   ]
  },
  {
   "cell_type": "markdown",
   "id": "017c595a",
   "metadata": {},
   "source": [
    "3. Develop a program that calculates the factorial of a given number using a while loop."
   ]
  },
  {
   "cell_type": "code",
   "execution_count": 84,
   "id": "7b953091",
   "metadata": {},
   "outputs": [
    {
     "name": "stdout",
     "output_type": "stream",
     "text": [
      "Enter a number: 5\n",
      "120\n"
     ]
    }
   ],
   "source": [
    "a = int(input(\"Enter a number: \"))\n",
    "factorial = 1\n",
    "i = 1 \n",
    "while i <= a: \n",
    "    factorial *= i \n",
    "    i += 1 \n",
    "print(factorial) "
   ]
  },
  {
   "cell_type": "markdown",
   "id": "0991f5b3",
   "metadata": {},
   "source": [
    "4. Write a program that prompts the user to enter a series of numbers until they enter a negative number. Then, the program should print the sum of all the positive numbers entered."
   ]
  },
  {
   "cell_type": "code",
   "execution_count": 18,
   "id": "69938457",
   "metadata": {},
   "outputs": [
    {
     "name": "stdout",
     "output_type": "stream",
     "text": [
      "Enter a number: 889\n",
      "889\n",
      "Enter a number: 87\n",
      "976\n",
      "Enter a number: 66\n",
      "1042\n",
      "Enter a number: -7\n"
     ]
    }
   ],
   "source": [
    "initial = 0\n",
    "while True:\n",
    "    user_input = int(input(\"Enter a number: \"))\n",
    "    if user_input < 0:\n",
    "        break\n",
    "    initial = initial + user_input\n",
    "    print(initial)"
   ]
  },
  {
   "cell_type": "markdown",
   "id": "c3b0a92c",
   "metadata": {},
   "source": [
    "5. Implement a simple guessing game where the program generates a random number between 1 and 100, and the user has to guess the number. The program should provide hints (higher/lower) until the user guesses the correct number, using a while loop."
   ]
  },
  {
   "cell_type": "code",
   "execution_count": 21,
   "id": "786f5bd9",
   "metadata": {},
   "outputs": [
    {
     "name": "stdout",
     "output_type": "stream",
     "text": [
      "Guess any random number between 1 to 100 = 60\n",
      "Congo\n"
     ]
    }
   ],
   "source": [
    "import random\n",
    "secret_number=random.randint(1,100)\n",
    "guess=None\n",
    "while True:\n",
    "    guess=int(input(\"Guess any random number between 1 to 100 = \"))\n",
    "    if guess==60:\n",
    "        print(\"Congo\")\n",
    "        break\n",
    "    elif guess<secret_number:\n",
    "            print(\"Try with higher Number, \")\n",
    "    else:\n",
    "        print(\"Try with lower Number, \")"
   ]
  },
  {
   "cell_type": "markdown",
   "id": "9ef0090d",
   "metadata": {},
   "source": [
    "------------------------------------------------------------------------ Thank You --------------------------------------------------------------------------"
   ]
  }
 ],
 "metadata": {
  "kernelspec": {
   "display_name": "Python 3 (ipykernel)",
   "language": "python",
   "name": "python3"
  },
  "language_info": {
   "codemirror_mode": {
    "name": "ipython",
    "version": 3
   },
   "file_extension": ".py",
   "mimetype": "text/x-python",
   "name": "python",
   "nbconvert_exporter": "python",
   "pygments_lexer": "ipython3",
   "version": "3.11.5"
  }
 },
 "nbformat": 4,
 "nbformat_minor": 5
}
